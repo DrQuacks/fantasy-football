{
 "cells": [
  {
   "cell_type": "code",
   "execution_count": 1,
   "id": "7dc283db-9a8d-46a1-a110-228571657c26",
   "metadata": {},
   "outputs": [
    {
     "name": "stderr",
     "output_type": "stream",
     "text": [
      "/Users/kellar/Develop/Projects/fantasy-football/jupyter/espn-env/lib/python3.9/site-packages/urllib3/__init__.py:35: NotOpenSSLWarning: urllib3 v2 only supports OpenSSL 1.1.1+, currently the 'ssl' module is compiled with 'LibreSSL 2.8.3'. See: https://github.com/urllib3/urllib3/issues/3020\n",
      "  warnings.warn(\n"
     ]
    }
   ],
   "source": [
    "import espn_api, pandas as pd\n",
    "from espn_api.football import League"
   ]
  },
  {
   "cell_type": "code",
   "execution_count": 2,
   "id": "766a530d-9542-465e-a405-06a8095cb147",
   "metadata": {},
   "outputs": [],
   "source": [
    "LEAGUE_ID=57220027\n",
    "SEASON_ID=2019"
   ]
  },
  {
   "cell_type": "code",
   "execution_count": 3,
   "id": "4d7e1f82-6d2c-4ee0-b9be-0151a203d42c",
   "metadata": {},
   "outputs": [],
   "source": [
    "league = League(\n",
    "    league_id=LEAGUE_ID,\n",
    "    year=SEASON_ID\n",
    ")"
   ]
  },
  {
   "cell_type": "code",
   "execution_count": 4,
   "id": "405b761e-b472-496a-a9a8-0efa5a8ee54c",
   "metadata": {},
   "outputs": [
    {
     "data": {
      "text/plain": [
       "'AAA Fantasy Football '"
      ]
     },
     "execution_count": 4,
     "metadata": {},
     "output_type": "execute_result"
    }
   ],
   "source": [
    "league.settings.name"
   ]
  },
  {
   "cell_type": "code",
   "execution_count": null,
   "id": "b3342266-07a7-499c-8eac-3e28d9b94350",
   "metadata": {},
   "outputs": [],
   "source": [
    "league"
   ]
  },
  {
   "cell_type": "code",
   "execution_count": null,
   "id": "ad02848e-70f9-4da1-8926-53036197621b",
   "metadata": {},
   "outputs": [],
   "source": [
    "type(league)"
   ]
  },
  {
   "cell_type": "code",
   "execution_count": null,
   "id": "dbbc1220-380d-4fa1-b43c-a5a6a92a0310",
   "metadata": {},
   "outputs": [],
   "source": [
    "dir(league)"
   ]
  },
  {
   "cell_type": "code",
   "execution_count": 5,
   "id": "519fcfef-4bde-444b-9c12-04afa40e0450",
   "metadata": {},
   "outputs": [
    {
     "data": {
      "text/plain": [
       "['__class__',\n",
       " '__delattr__',\n",
       " '__dict__',\n",
       " '__dir__',\n",
       " '__doc__',\n",
       " '__eq__',\n",
       " '__format__',\n",
       " '__ge__',\n",
       " '__getattribute__',\n",
       " '__gt__',\n",
       " '__hash__',\n",
       " '__init__',\n",
       " '__init_subclass__',\n",
       " '__le__',\n",
       " '__lt__',\n",
       " '__module__',\n",
       " '__ne__',\n",
       " '__new__',\n",
       " '__reduce__',\n",
       " '__reduce_ex__',\n",
       " '__repr__',\n",
       " '__setattr__',\n",
       " '__sizeof__',\n",
       " '__str__',\n",
       " '__subclasshook__',\n",
       " '__weakref__',\n",
       " 'acquisitionType',\n",
       " 'active_status',\n",
       " 'avg_points',\n",
       " 'eligibleSlots',\n",
       " 'injured',\n",
       " 'injuryStatus',\n",
       " 'lineupSlot',\n",
       " 'name',\n",
       " 'onTeamId',\n",
       " 'percent_owned',\n",
       " 'percent_started',\n",
       " 'playerId',\n",
       " 'posRank',\n",
       " 'position',\n",
       " 'proTeam',\n",
       " 'projected_avg_points',\n",
       " 'projected_total_points',\n",
       " 'schedule',\n",
       " 'stats',\n",
       " 'total_points']"
      ]
     },
     "execution_count": 5,
     "metadata": {},
     "output_type": "execute_result"
    }
   ],
   "source": [
    "p = league.player_info('Christian McCaffrey')\n",
    "dir(p)"
   ]
  },
  {
   "cell_type": "code",
   "execution_count": 8,
   "id": "49613cf2-cbfa-4a60-bd55-345963501954",
   "metadata": {},
   "outputs": [],
   "source": [
    "fa = league.free_agents(16, 500, 'WR')"
   ]
  },
  {
   "cell_type": "code",
   "execution_count": null,
   "id": "711d2d14-fff4-4f9b-8dae-a9793a172e70",
   "metadata": {},
   "outputs": [],
   "source": [
    "[p for p in fa if p.name == \"David Moore\"]"
   ]
  },
  {
   "cell_type": "code",
   "execution_count": null,
   "id": "a93b759b-7b46-43dd-a04b-fb70cd4e1724",
   "metadata": {},
   "outputs": [],
   "source": [
    "pg = league.player_info('Greg Olsen')"
   ]
  },
  {
   "cell_type": "code",
   "execution_count": null,
   "id": "5c45581e-5a15-4c65-b5bf-7be9fba15f6f",
   "metadata": {},
   "outputs": [],
   "source": [
    "pg.name"
   ]
  },
  {
   "cell_type": "code",
   "execution_count": null,
   "id": "2acfcd50-bdc8-46cd-af6c-8f9a5f559dc8",
   "metadata": {},
   "outputs": [],
   "source": [
    "pg.proTeam"
   ]
  },
  {
   "cell_type": "code",
   "execution_count": null,
   "id": "241061fa-0209-4d1a-b1e0-f7a18d916427",
   "metadata": {},
   "outputs": [],
   "source": [
    "print('Hello')"
   ]
  },
  {
   "cell_type": "code",
   "execution_count": null,
   "id": "c9d805c4-390c-416b-8cc9-09eaaa5bc739",
   "metadata": {},
   "outputs": [],
   "source": [
    "r.json()"
   ]
  },
  {
   "cell_type": "code",
   "execution_count": null,
   "id": "fd44a7c5-5f5a-41b1-b749-2eefdadd5c94",
   "metadata": {},
   "outputs": [],
   "source": [
    "statslog_url = \"http://sports.core.api.espn.com/v2/sports/football/leagues/nfl/athletes/14880/statisticslog?lang=en&region=us\"\n",
    "r = requests.get(statslog_url)\n",
    "r.json()"
   ]
  },
  {
   "cell_type": "code",
   "execution_count": null,
   "id": "770fea67-575e-42f3-bbfb-b4d16d8c8115",
   "metadata": {},
   "outputs": [],
   "source": [
    "print('hello')"
   ]
  },
  {
   "cell_type": "code",
   "execution_count": null,
   "id": "0c3d8596-3ede-4d1a-8261-1f20269ee492",
   "metadata": {},
   "outputs": [],
   "source": [
    "week = 1\n",
    "year = 2024\n",
    "url = f\"https://site.api.espn.com/apis/site/v2/sports/football/nfl/scoreboard?week={week}&year={year}&seasontype=2\"\n",
    "data = requests.get(url).json()\n",
    "\n",
    "for event in data[\"events\"]:\n",
    "    comp = event[\"competitions\"][0]\n",
    "    home = comp[\"competitors\"][0][\"team\"][\"displayName\"]\n",
    "    away = comp[\"competitors\"][1][\"team\"][\"displayName\"]\n",
    "    date = event[\"date\"]\n",
    "    print(f\"{away} @ {home} - {date}\")"
   ]
  },
  {
   "cell_type": "code",
   "execution_count": 6,
   "id": "72327729-285e-401e-80f4-606d8e6c5bf3",
   "metadata": {},
   "outputs": [
    {
     "data": {
      "text/plain": [
       "3043078"
      ]
     },
     "execution_count": 6,
     "metadata": {},
     "output_type": "execute_result"
    }
   ],
   "source": [
    "player = league.player_info(\"Derrick Henry\")  # example\n",
    "athlete_id = player.playerId\n",
    "athlete_id"
   ]
  },
  {
   "cell_type": "code",
   "execution_count": 7,
   "id": "87092f37-7064-4579-b91c-790bfd6c3a88",
   "metadata": {},
   "outputs": [
    {
     "ename": "NameError",
     "evalue": "name 'requests' is not defined",
     "output_type": "error",
     "traceback": [
      "\u001b[0;31m---------------------------------------------------------------------------\u001b[0m",
      "\u001b[0;31mNameError\u001b[0m                                 Traceback (most recent call last)",
      "Cell \u001b[0;32mIn[7], line 33\u001b[0m\n\u001b[1;32m     13\u001b[0m             rows\u001b[38;5;241m.\u001b[39mappend({\n\u001b[1;32m     14\u001b[0m                 \u001b[38;5;124m\"\u001b[39m\u001b[38;5;124mdate\u001b[39m\u001b[38;5;124m\"\u001b[39m: e\u001b[38;5;241m.\u001b[39mget(\u001b[38;5;124m\"\u001b[39m\u001b[38;5;124mgameDate\u001b[39m\u001b[38;5;124m\"\u001b[39m) \u001b[38;5;129;01mor\u001b[39;00m comp\u001b[38;5;241m.\u001b[39mget(\u001b[38;5;124m\"\u001b[39m\u001b[38;5;124mdate\u001b[39m\u001b[38;5;124m\"\u001b[39m),\n\u001b[1;32m     15\u001b[0m                 \u001b[38;5;124m\"\u001b[39m\u001b[38;5;124mweek\u001b[39m\u001b[38;5;124m\"\u001b[39m: e\u001b[38;5;241m.\u001b[39mget(\u001b[38;5;124m\"\u001b[39m\u001b[38;5;124mweek\u001b[39m\u001b[38;5;124m\"\u001b[39m) \u001b[38;5;129;01mor\u001b[39;00m comp\u001b[38;5;241m.\u001b[39mget(\u001b[38;5;124m\"\u001b[39m\u001b[38;5;124mweek\u001b[39m\u001b[38;5;124m\"\u001b[39m),\n\u001b[0;32m   (...)\u001b[0m\n\u001b[1;32m     29\u001b[0m                 \u001b[38;5;124m\"\u001b[39m\u001b[38;5;124mfantasyPts\u001b[39m\u001b[38;5;124m\"\u001b[39m: e\u001b[38;5;241m.\u001b[39mget(\u001b[38;5;124m\"\u001b[39m\u001b[38;5;124mstats\u001b[39m\u001b[38;5;124m\"\u001b[39m, {})\u001b[38;5;241m.\u001b[39mget(\u001b[38;5;124m\"\u001b[39m\u001b[38;5;124mfantasyPoints\u001b[39m\u001b[38;5;124m\"\u001b[39m)\n\u001b[1;32m     30\u001b[0m             })\n\u001b[1;32m     31\u001b[0m     \u001b[38;5;28;01mreturn\u001b[39;00m pd\u001b[38;5;241m.\u001b[39mDataFrame(rows)\n\u001b[0;32m---> 33\u001b[0m df \u001b[38;5;241m=\u001b[39m \u001b[43mfetch_gamelog\u001b[49m\u001b[43m(\u001b[49m\u001b[43mathlete_id\u001b[49m\u001b[43m,\u001b[49m\u001b[43m \u001b[49m\u001b[38;5;241;43m2024\u001b[39;49m\u001b[43m)\u001b[49m\n\u001b[1;32m     34\u001b[0m df\u001b[38;5;241m.\u001b[39mhead()\n",
      "Cell \u001b[0;32mIn[7], line 3\u001b[0m, in \u001b[0;36mfetch_gamelog\u001b[0;34m(athlete_id, season)\u001b[0m\n\u001b[1;32m      1\u001b[0m \u001b[38;5;28;01mdef\u001b[39;00m\u001b[38;5;250m \u001b[39m\u001b[38;5;21mfetch_gamelog\u001b[39m(athlete_id: \u001b[38;5;28mint\u001b[39m, season: \u001b[38;5;28mint\u001b[39m):\n\u001b[1;32m      2\u001b[0m     url \u001b[38;5;241m=\u001b[39m \u001b[38;5;124mf\u001b[39m\u001b[38;5;124m\"\u001b[39m\u001b[38;5;124mhttps://site.web.api.espn.com/apis/common/v3/sports/football/nfl/athletes/\u001b[39m\u001b[38;5;132;01m{\u001b[39;00mathlete_id\u001b[38;5;132;01m}\u001b[39;00m\u001b[38;5;124m/gamelog?season=\u001b[39m\u001b[38;5;132;01m{\u001b[39;00mseason\u001b[38;5;132;01m}\u001b[39;00m\u001b[38;5;124m\"\u001b[39m\n\u001b[0;32m----> 3\u001b[0m     j \u001b[38;5;241m=\u001b[39m \u001b[43mrequests\u001b[49m\u001b[38;5;241m.\u001b[39mget(url, timeout\u001b[38;5;241m=\u001b[39m\u001b[38;5;241m20\u001b[39m)\u001b[38;5;241m.\u001b[39mjson()\n\u001b[1;32m      5\u001b[0m     \u001b[38;5;66;03m# The gamelog response groups entries by season segments. Flatten defensively:\u001b[39;00m\n\u001b[1;32m      6\u001b[0m     groups \u001b[38;5;241m=\u001b[39m j\u001b[38;5;241m.\u001b[39mget(\u001b[38;5;124m\"\u001b[39m\u001b[38;5;124mgamelog\u001b[39m\u001b[38;5;124m\"\u001b[39m, [])\n",
      "\u001b[0;31mNameError\u001b[0m: name 'requests' is not defined"
     ]
    }
   ],
   "source": [
    "def fetch_gamelog(athlete_id: int, season: int):\n",
    "    url = f\"https://site.web.api.espn.com/apis/common/v3/sports/football/nfl/athletes/{athlete_id}/gamelog?season={season}\"\n",
    "    j = requests.get(url, timeout=20).json()\n",
    "\n",
    "    # The gamelog response groups entries by season segments. Flatten defensively:\n",
    "    groups = j.get(\"gamelog\", [])\n",
    "    rows = []\n",
    "    for g in groups:\n",
    "        for e in g.get(\"entries\", []):\n",
    "            comp = e.get(\"competitions\", [{}])[0]  # game container\n",
    "            team   = comp.get(\"team\", {})            # player’s team that week\n",
    "            opp    = comp.get(\"opponent\", {})\n",
    "            rows.append({\n",
    "                \"date\": e.get(\"gameDate\") or comp.get(\"date\"),\n",
    "                \"week\": e.get(\"week\") or comp.get(\"week\"),\n",
    "                \"homeAway\": \"home\" if comp.get(\"isHome\") else \"away\" if comp.get(\"isHome\") is not None else None,\n",
    "                \"team_id\": team.get(\"id\"),\n",
    "                \"team\": team.get(\"displayName\") or team.get(\"abbreviation\"),\n",
    "                \"opp_id\": opp.get(\"id\"),\n",
    "                \"opp\": opp.get(\"displayName\") or opp.get(\"abbreviation\"),\n",
    "                # common WR stats (keys vary by position; grab safely)\n",
    "                \"rec\": e.get(\"stats\", {}).get(\"receptions\"),\n",
    "                \"yds\": e.get(\"stats\", {}).get(\"receivingYards\"),\n",
    "                \"td\":  e.get(\"stats\", {}).get(\"receivingTouchdowns\"),\n",
    "                \"targets\": e.get(\"stats\", {}).get(\"targets\"),\n",
    "                \"rush_att\": e.get(\"stats\", {}).get(\"rushingAttempts\"),\n",
    "                \"rush_yds\": e.get(\"stats\", {}).get(\"rushingYards\"),\n",
    "                \"rush_td\":  e.get(\"stats\", {}).get(\"rushingTouchdowns\"),\n",
    "                \"fantasyPts\": e.get(\"stats\", {}).get(\"fantasyPoints\")\n",
    "            })\n",
    "    return pd.DataFrame(rows)\n",
    "\n",
    "df = fetch_gamelog(athlete_id, 2024)\n",
    "df.head()"
   ]
  },
  {
   "cell_type": "raw",
   "id": "e3427137-03c3-4f0f-a582-653d38e78ab3",
   "metadata": {},
   "source": [
    "print('hello')"
   ]
  },
  {
   "cell_type": "code",
   "execution_count": null,
   "id": "7b9e14e6-299b-42e7-ae78-375aa16eafb1",
   "metadata": {},
   "outputs": [],
   "source": []
  }
 ],
 "metadata": {
  "kernelspec": {
   "display_name": "Python (espn-env)",
   "language": "python",
   "name": "espn-env"
  },
  "language_info": {
   "codemirror_mode": {
    "name": "ipython",
    "version": 3
   },
   "file_extension": ".py",
   "mimetype": "text/x-python",
   "name": "python",
   "nbconvert_exporter": "python",
   "pygments_lexer": "ipython3",
   "version": "3.9.6"
  }
 },
 "nbformat": 4,
 "nbformat_minor": 5
}
