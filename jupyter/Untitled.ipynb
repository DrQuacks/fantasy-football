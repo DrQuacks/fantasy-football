{
 "cells": [
  {
   "cell_type": "code",
   "execution_count": 1,
   "id": "7dc283db-9a8d-46a1-a110-228571657c26",
   "metadata": {},
   "outputs": [
    {
     "name": "stderr",
     "output_type": "stream",
     "text": [
      "/Users/kellar/Develop/Projects/fantasy-football/jupyter/espn-env/lib/python3.9/site-packages/urllib3/__init__.py:35: NotOpenSSLWarning: urllib3 v2 only supports OpenSSL 1.1.1+, currently the 'ssl' module is compiled with 'LibreSSL 2.8.3'. See: https://github.com/urllib3/urllib3/issues/3020\n",
      "  warnings.warn(\n"
     ]
    }
   ],
   "source": [
    "import espn_api, pandas as pd\n",
    "from espn_api.football import League\n",
    "import requests"
   ]
  },
  {
   "cell_type": "code",
   "execution_count": 2,
   "id": "766a530d-9542-465e-a405-06a8095cb147",
   "metadata": {},
   "outputs": [],
   "source": [
    "LEAGUE_ID=57220027\n",
    "SEASON_ID=2019"
   ]
  },
  {
   "cell_type": "code",
   "execution_count": 3,
   "id": "4d7e1f82-6d2c-4ee0-b9be-0151a203d42c",
   "metadata": {},
   "outputs": [],
   "source": [
    "league = League(\n",
    "    league_id=LEAGUE_ID,\n",
    "    year=SEASON_ID\n",
    ")"
   ]
  },
  {
   "cell_type": "code",
   "execution_count": 4,
   "id": "405b761e-b472-496a-a9a8-0efa5a8ee54c",
   "metadata": {},
   "outputs": [
    {
     "data": {
      "text/plain": [
       "'AAA Fantasy Football '"
      ]
     },
     "execution_count": 4,
     "metadata": {},
     "output_type": "execute_result"
    }
   ],
   "source": [
    "league.settings.name"
   ]
  },
  {
   "cell_type": "code",
   "execution_count": 5,
   "id": "b3342266-07a7-499c-8eac-3e28d9b94350",
   "metadata": {},
   "outputs": [
    {
     "data": {
      "text/plain": [
       "League(57220027, 2019)"
      ]
     },
     "execution_count": 5,
     "metadata": {},
     "output_type": "execute_result"
    }
   ],
   "source": [
    "league"
   ]
  },
  {
   "cell_type": "code",
   "execution_count": null,
   "id": "ad02848e-70f9-4da1-8926-53036197621b",
   "metadata": {},
   "outputs": [],
   "source": [
    "type(league)"
   ]
  },
  {
   "cell_type": "code",
   "execution_count": null,
   "id": "dbbc1220-380d-4fa1-b43c-a5a6a92a0310",
   "metadata": {},
   "outputs": [],
   "source": [
    "dir(league)"
   ]
  },
  {
   "cell_type": "code",
   "execution_count": 5,
   "id": "519fcfef-4bde-444b-9c12-04afa40e0450",
   "metadata": {},
   "outputs": [
    {
     "data": {
      "text/plain": [
       "['__class__',\n",
       " '__delattr__',\n",
       " '__dict__',\n",
       " '__dir__',\n",
       " '__doc__',\n",
       " '__eq__',\n",
       " '__format__',\n",
       " '__ge__',\n",
       " '__getattribute__',\n",
       " '__gt__',\n",
       " '__hash__',\n",
       " '__init__',\n",
       " '__init_subclass__',\n",
       " '__le__',\n",
       " '__lt__',\n",
       " '__module__',\n",
       " '__ne__',\n",
       " '__new__',\n",
       " '__reduce__',\n",
       " '__reduce_ex__',\n",
       " '__repr__',\n",
       " '__setattr__',\n",
       " '__sizeof__',\n",
       " '__str__',\n",
       " '__subclasshook__',\n",
       " '__weakref__',\n",
       " 'acquisitionType',\n",
       " 'active_status',\n",
       " 'avg_points',\n",
       " 'eligibleSlots',\n",
       " 'injured',\n",
       " 'injuryStatus',\n",
       " 'lineupSlot',\n",
       " 'name',\n",
       " 'onTeamId',\n",
       " 'percent_owned',\n",
       " 'percent_started',\n",
       " 'playerId',\n",
       " 'posRank',\n",
       " 'position',\n",
       " 'proTeam',\n",
       " 'projected_avg_points',\n",
       " 'projected_total_points',\n",
       " 'schedule',\n",
       " 'stats',\n",
       " 'total_points']"
      ]
     },
     "execution_count": 5,
     "metadata": {},
     "output_type": "execute_result"
    }
   ],
   "source": [
    "p = league.player_info('Christian McCaffrey')\n",
    "dir(p)"
   ]
  },
  {
   "cell_type": "code",
   "execution_count": 7,
   "id": "49613cf2-cbfa-4a60-bd55-345963501954",
   "metadata": {},
   "outputs": [],
   "source": [
    "fa = league.free_agents(16, 500, 'WR')"
   ]
  },
  {
   "cell_type": "code",
   "execution_count": 8,
   "id": "711d2d14-fff4-4f9b-8dae-a9793a172e70",
   "metadata": {},
   "outputs": [
    {
     "data": {
      "text/plain": [
       "[Player(David Moore, points:3.0, projected:4.86)]"
      ]
     },
     "execution_count": 8,
     "metadata": {},
     "output_type": "execute_result"
    }
   ],
   "source": [
    "[p for p in fa if p.name == \"David Moore\"]"
   ]
  },
  {
   "cell_type": "code",
   "execution_count": 14,
   "id": "a93b759b-7b46-43dd-a04b-fb70cd4e1724",
   "metadata": {},
   "outputs": [],
   "source": [
    "m = [p for p in fa if p.name == \"David Moore\"][0]"
   ]
  },
  {
   "cell_type": "code",
   "execution_count": 15,
   "id": "5c45581e-5a15-4c65-b5bf-7be9fba15f6f",
   "metadata": {},
   "outputs": [
    {
     "data": {
      "text/plain": [
       "Player(David Moore, points:3.0, projected:4.86)"
      ]
     },
     "execution_count": 15,
     "metadata": {},
     "output_type": "execute_result"
    }
   ],
   "source": [
    "m"
   ]
  },
  {
   "cell_type": "code",
   "execution_count": 16,
   "id": "2acfcd50-bdc8-46cd-af6c-8f9a5f559dc8",
   "metadata": {},
   "outputs": [
    {
     "data": {
      "text/plain": [
       "'David Moore'"
      ]
     },
     "execution_count": 16,
     "metadata": {},
     "output_type": "execute_result"
    }
   ],
   "source": [
    "m.name"
   ]
  },
  {
   "cell_type": "code",
   "execution_count": 18,
   "id": "241061fa-0209-4d1a-b1e0-f7a18d916427",
   "metadata": {},
   "outputs": [
    {
     "data": {
      "text/plain": [
       "['__class__',\n",
       " '__delattr__',\n",
       " '__dict__',\n",
       " '__dir__',\n",
       " '__doc__',\n",
       " '__eq__',\n",
       " '__format__',\n",
       " '__ge__',\n",
       " '__getattribute__',\n",
       " '__gt__',\n",
       " '__hash__',\n",
       " '__init__',\n",
       " '__init_subclass__',\n",
       " '__le__',\n",
       " '__lt__',\n",
       " '__module__',\n",
       " '__ne__',\n",
       " '__new__',\n",
       " '__reduce__',\n",
       " '__reduce_ex__',\n",
       " '__repr__',\n",
       " '__setattr__',\n",
       " '__sizeof__',\n",
       " '__str__',\n",
       " '__subclasshook__',\n",
       " '__weakref__',\n",
       " 'acquisitionType',\n",
       " 'active_status',\n",
       " 'avg_points',\n",
       " 'eligibleSlots',\n",
       " 'game_date',\n",
       " 'game_played',\n",
       " 'injured',\n",
       " 'injuryStatus',\n",
       " 'lineupSlot',\n",
       " 'name',\n",
       " 'onTeamId',\n",
       " 'on_bye_week',\n",
       " 'percent_owned',\n",
       " 'percent_started',\n",
       " 'playerId',\n",
       " 'points',\n",
       " 'points_breakdown',\n",
       " 'posRank',\n",
       " 'position',\n",
       " 'proTeam',\n",
       " 'pro_opponent',\n",
       " 'pro_pos_rank',\n",
       " 'projected_avg_points',\n",
       " 'projected_breakdown',\n",
       " 'projected_points',\n",
       " 'projected_total_points',\n",
       " 'schedule',\n",
       " 'slot_position',\n",
       " 'stats',\n",
       " 'total_points']"
      ]
     },
     "execution_count": 18,
     "metadata": {},
     "output_type": "execute_result"
    }
   ],
   "source": [
    "dir(m)"
   ]
  },
  {
   "cell_type": "code",
   "execution_count": null,
   "id": "c9d805c4-390c-416b-8cc9-09eaaa5bc739",
   "metadata": {},
   "outputs": [],
   "source": [
    "r.json()"
   ]
  },
  {
   "cell_type": "code",
   "execution_count": 38,
   "id": "fd44a7c5-5f5a-41b1-b749-2eefdadd5c94",
   "metadata": {},
   "outputs": [
    {
     "data": {
      "text/plain": [
       "{'$ref': 'http://sports.core.api.espn.com/v2/sports/football/leagues/nfl/athletes/14880/statisticslog?lang=en&region=us',\n",
       " 'entries': [{'season': {'$ref': 'http://sports.core.api.espn.com/v2/sports/football/leagues/nfl/seasons/2024?lang=en&region=us'},\n",
       "   'statistics': [{'type': 'total',\n",
       "     'statistics': {'$ref': 'http://sports.core.api.espn.com/v2/sports/football/leagues/nfl/seasons/2024/types/2/athletes/14880/statistics/0?lang=en&region=us'}},\n",
       "    {'type': 'team',\n",
       "     'team': {'$ref': 'http://sports.core.api.espn.com/v2/sports/football/leagues/nfl/seasons/2024/teams/1?lang=en&region=us'},\n",
       "     'statistics': {'$ref': 'http://sports.core.api.espn.com/v2/sports/football/leagues/nfl/seasons/2024/types/2/teams/1/athletes/14880/statistics?lang=en&region=us'}}]},\n",
       "  {'season': {'$ref': 'http://sports.core.api.espn.com/v2/sports/football/leagues/nfl/seasons/2023?lang=en&region=us'},\n",
       "   'statistics': [{'type': 'total',\n",
       "     'statistics': {'$ref': 'http://sports.core.api.espn.com/v2/sports/football/leagues/nfl/seasons/2023/types/2/athletes/14880/statistics/0?lang=en&region=us'}},\n",
       "    {'type': 'team',\n",
       "     'team': {'$ref': 'http://sports.core.api.espn.com/v2/sports/football/leagues/nfl/seasons/2023/teams/16?lang=en&region=us'},\n",
       "     'statistics': {'$ref': 'http://sports.core.api.espn.com/v2/sports/football/leagues/nfl/seasons/2023/types/2/teams/16/athletes/14880/statistics?lang=en&region=us'}}]},\n",
       "  {'season': {'$ref': 'http://sports.core.api.espn.com/v2/sports/football/leagues/nfl/seasons/2022?lang=en&region=us'},\n",
       "   'statistics': [{'type': 'total',\n",
       "     'statistics': {'$ref': 'http://sports.core.api.espn.com/v2/sports/football/leagues/nfl/seasons/2022/types/2/athletes/14880/statistics/0?lang=en&region=us'}},\n",
       "    {'type': 'team',\n",
       "     'team': {'$ref': 'http://sports.core.api.espn.com/v2/sports/football/leagues/nfl/seasons/2022/teams/16?lang=en&region=us'},\n",
       "     'statistics': {'$ref': 'http://sports.core.api.espn.com/v2/sports/football/leagues/nfl/seasons/2022/types/2/teams/16/athletes/14880/statistics?lang=en&region=us'}}]},\n",
       "  {'season': {'$ref': 'http://sports.core.api.espn.com/v2/sports/football/leagues/nfl/seasons/2021?lang=en&region=us'},\n",
       "   'statistics': [{'type': 'total',\n",
       "     'statistics': {'$ref': 'http://sports.core.api.espn.com/v2/sports/football/leagues/nfl/seasons/2021/types/2/athletes/14880/statistics/0?lang=en&region=us'}},\n",
       "    {'type': 'team',\n",
       "     'team': {'$ref': 'http://sports.core.api.espn.com/v2/sports/football/leagues/nfl/seasons/2021/teams/16?lang=en&region=us'},\n",
       "     'statistics': {'$ref': 'http://sports.core.api.espn.com/v2/sports/football/leagues/nfl/seasons/2021/types/2/teams/16/athletes/14880/statistics?lang=en&region=us'}}]},\n",
       "  {'season': {'$ref': 'http://sports.core.api.espn.com/v2/sports/football/leagues/nfl/seasons/2020?lang=en&region=us'},\n",
       "   'statistics': [{'type': 'total',\n",
       "     'statistics': {'$ref': 'http://sports.core.api.espn.com/v2/sports/football/leagues/nfl/seasons/2020/types/2/athletes/14880/statistics/0?lang=en&region=us'}},\n",
       "    {'type': 'team',\n",
       "     'team': {'$ref': 'http://sports.core.api.espn.com/v2/sports/football/leagues/nfl/seasons/2020/teams/16?lang=en&region=us'},\n",
       "     'statistics': {'$ref': 'http://sports.core.api.espn.com/v2/sports/football/leagues/nfl/seasons/2020/types/2/teams/16/athletes/14880/statistics?lang=en&region=us'}}]},\n",
       "  {'season': {'$ref': 'http://sports.core.api.espn.com/v2/sports/football/leagues/nfl/seasons/2019?lang=en&region=us'},\n",
       "   'statistics': [{'type': 'total',\n",
       "     'statistics': {'$ref': 'http://sports.core.api.espn.com/v2/sports/football/leagues/nfl/seasons/2019/types/2/athletes/14880/statistics/0?lang=en&region=us'}},\n",
       "    {'type': 'team',\n",
       "     'team': {'$ref': 'http://sports.core.api.espn.com/v2/sports/football/leagues/nfl/seasons/2019/teams/16?lang=en&region=us'},\n",
       "     'statistics': {'$ref': 'http://sports.core.api.espn.com/v2/sports/football/leagues/nfl/seasons/2019/types/2/teams/16/athletes/14880/statistics?lang=en&region=us'}}]},\n",
       "  {'season': {'$ref': 'http://sports.core.api.espn.com/v2/sports/football/leagues/nfl/seasons/2018?lang=en&region=us'},\n",
       "   'statistics': [{'type': 'total',\n",
       "     'statistics': {'$ref': 'http://sports.core.api.espn.com/v2/sports/football/leagues/nfl/seasons/2018/types/2/athletes/14880/statistics/0?lang=en&region=us'}},\n",
       "    {'type': 'team',\n",
       "     'team': {'$ref': 'http://sports.core.api.espn.com/v2/sports/football/leagues/nfl/seasons/2018/teams/16?lang=en&region=us'},\n",
       "     'statistics': {'$ref': 'http://sports.core.api.espn.com/v2/sports/football/leagues/nfl/seasons/2018/types/2/teams/16/athletes/14880/statistics?lang=en&region=us'}}]},\n",
       "  {'season': {'$ref': 'http://sports.core.api.espn.com/v2/sports/football/leagues/nfl/seasons/2017?lang=en&region=us'},\n",
       "   'statistics': [{'type': 'total',\n",
       "     'statistics': {'$ref': 'http://sports.core.api.espn.com/v2/sports/football/leagues/nfl/seasons/2017/types/2/athletes/14880/statistics/0?lang=en&region=us'}},\n",
       "    {'type': 'team',\n",
       "     'team': {'$ref': 'http://sports.core.api.espn.com/v2/sports/football/leagues/nfl/seasons/2017/teams/28?lang=en&region=us'},\n",
       "     'statistics': {'$ref': 'http://sports.core.api.espn.com/v2/sports/football/leagues/nfl/seasons/2017/types/2/teams/28/athletes/14880/statistics?lang=en&region=us'}}]},\n",
       "  {'season': {'$ref': 'http://sports.core.api.espn.com/v2/sports/football/leagues/nfl/seasons/2016?lang=en&region=us'},\n",
       "   'statistics': [{'type': 'total',\n",
       "     'statistics': {'$ref': 'http://sports.core.api.espn.com/v2/sports/football/leagues/nfl/seasons/2016/types/2/athletes/14880/statistics/0?lang=en&region=us'}},\n",
       "    {'type': 'team',\n",
       "     'team': {'$ref': 'http://sports.core.api.espn.com/v2/sports/football/leagues/nfl/seasons/2016/teams/28?lang=en&region=us'},\n",
       "     'statistics': {'$ref': 'http://sports.core.api.espn.com/v2/sports/football/leagues/nfl/seasons/2016/types/2/teams/28/athletes/14880/statistics?lang=en&region=us'}}]},\n",
       "  {'season': {'$ref': 'http://sports.core.api.espn.com/v2/sports/football/leagues/nfl/seasons/2015?lang=en&region=us'},\n",
       "   'statistics': [{'type': 'total',\n",
       "     'statistics': {'$ref': 'http://sports.core.api.espn.com/v2/sports/football/leagues/nfl/seasons/2015/types/2/athletes/14880/statistics/0?lang=en&region=us'}},\n",
       "    {'type': 'team',\n",
       "     'team': {'$ref': 'http://sports.core.api.espn.com/v2/sports/football/leagues/nfl/seasons/2015/teams/28?lang=en&region=us'},\n",
       "     'statistics': {'$ref': 'http://sports.core.api.espn.com/v2/sports/football/leagues/nfl/seasons/2015/types/2/teams/28/athletes/14880/statistics?lang=en&region=us'}}]},\n",
       "  {'season': {'$ref': 'http://sports.core.api.espn.com/v2/sports/football/leagues/nfl/seasons/2014?lang=en&region=us'},\n",
       "   'statistics': [{'type': 'total',\n",
       "     'statistics': {'$ref': 'http://sports.core.api.espn.com/v2/sports/football/leagues/nfl/seasons/2014/types/2/athletes/14880/statistics/0?lang=en&region=us'}},\n",
       "    {'type': 'team',\n",
       "     'team': {'$ref': 'http://sports.core.api.espn.com/v2/sports/football/leagues/nfl/seasons/2014/teams/28?lang=en&region=us'},\n",
       "     'statistics': {'$ref': 'http://sports.core.api.espn.com/v2/sports/football/leagues/nfl/seasons/2014/types/2/teams/28/athletes/14880/statistics?lang=en&region=us'}}]},\n",
       "  {'season': {'$ref': 'http://sports.core.api.espn.com/v2/sports/football/leagues/nfl/seasons/2013?lang=en&region=us'},\n",
       "   'statistics': [{'type': 'total',\n",
       "     'statistics': {'$ref': 'http://sports.core.api.espn.com/v2/sports/football/leagues/nfl/seasons/2013/types/2/athletes/14880/statistics/0?lang=en&region=us'}},\n",
       "    {'type': 'team',\n",
       "     'team': {'$ref': 'http://sports.core.api.espn.com/v2/sports/football/leagues/nfl/seasons/2013/teams/28?lang=en&region=us'},\n",
       "     'statistics': {'$ref': 'http://sports.core.api.espn.com/v2/sports/football/leagues/nfl/seasons/2013/types/2/teams/28/athletes/14880/statistics?lang=en&region=us'}}]},\n",
       "  {'season': {'$ref': 'http://sports.core.api.espn.com/v2/sports/football/leagues/nfl/seasons/2012?lang=en&region=us'},\n",
       "   'statistics': [{'type': 'total',\n",
       "     'statistics': {'$ref': 'http://sports.core.api.espn.com/v2/sports/football/leagues/nfl/seasons/2012/types/2/athletes/14880/statistics/0?lang=en&region=us'}},\n",
       "    {'type': 'team',\n",
       "     'team': {'$ref': 'http://sports.core.api.espn.com/v2/sports/football/leagues/nfl/seasons/2012/teams/28?lang=en&region=us'},\n",
       "     'statistics': {'$ref': 'http://sports.core.api.espn.com/v2/sports/football/leagues/nfl/seasons/2012/types/2/teams/28/athletes/14880/statistics?lang=en&region=us'}}]}]}"
      ]
     },
     "execution_count": 38,
     "metadata": {},
     "output_type": "execute_result"
    }
   ],
   "source": [
    "statslog_url = \"http://sports.core.api.espn.com/v2/sports/football/leagues/nfl/athletes/14880/statisticslog?lang=en&region=us\"\n",
    "r = requests.get(statslog_url)\n",
    "r.json()"
   ]
  },
  {
   "cell_type": "code",
   "execution_count": null,
   "id": "770fea67-575e-42f3-bbfb-b4d16d8c8115",
   "metadata": {},
   "outputs": [],
   "source": [
    "print('hello')"
   ]
  },
  {
   "cell_type": "code",
   "execution_count": 39,
   "id": "0c3d8596-3ede-4d1a-8261-1f20269ee492",
   "metadata": {},
   "outputs": [
    {
     "name": "stdout",
     "output_type": "stream",
     "text": [
      "Dallas Cowboys @ Philadelphia Eagles - 2025-09-05T00:20Z\n",
      "Kansas City Chiefs @ Los Angeles Chargers - 2025-09-06T00:00Z\n",
      "Tampa Bay Buccaneers @ Atlanta Falcons - 2025-09-07T17:00Z\n",
      "Cincinnati Bengals @ Cleveland Browns - 2025-09-07T17:00Z\n",
      "Miami Dolphins @ Indianapolis Colts - 2025-09-07T17:00Z\n",
      "Las Vegas Raiders @ New England Patriots - 2025-09-07T17:00Z\n",
      "Arizona Cardinals @ New Orleans Saints - 2025-09-07T17:00Z\n",
      "Pittsburgh Steelers @ New York Jets - 2025-09-07T17:00Z\n",
      "New York Giants @ Washington Commanders - 2025-09-07T17:00Z\n",
      "Carolina Panthers @ Jacksonville Jaguars - 2025-09-07T17:00Z\n",
      "Tennessee Titans @ Denver Broncos - 2025-09-07T20:05Z\n",
      "San Francisco 49ers @ Seattle Seahawks - 2025-09-07T20:05Z\n",
      "Detroit Lions @ Green Bay Packers - 2025-09-07T20:25Z\n",
      "Houston Texans @ Los Angeles Rams - 2025-09-07T20:25Z\n",
      "Baltimore Ravens @ Buffalo Bills - 2025-09-08T00:20Z\n",
      "Minnesota Vikings @ Chicago Bears - 2025-09-09T00:15Z\n"
     ]
    }
   ],
   "source": [
    "week = 1\n",
    "year = 2024\n",
    "url = f\"https://site.api.espn.com/apis/site/v2/sports/football/nfl/scoreboard?week={week}&year={year}&seasontype=2\"\n",
    "data = requests.get(url).json()\n",
    "\n",
    "for event in data[\"events\"]:\n",
    "    comp = event[\"competitions\"][0]\n",
    "    home = comp[\"competitors\"][0][\"team\"][\"displayName\"]\n",
    "    away = comp[\"competitors\"][1][\"team\"][\"displayName\"]\n",
    "    date = event[\"date\"]\n",
    "    print(f\"{away} @ {home} - {date}\")"
   ]
  },
  {
   "cell_type": "code",
   "execution_count": 40,
   "id": "72327729-285e-401e-80f4-606d8e6c5bf3",
   "metadata": {},
   "outputs": [
    {
     "data": {
      "text/plain": [
       "3043078"
      ]
     },
     "execution_count": 40,
     "metadata": {},
     "output_type": "execute_result"
    }
   ],
   "source": [
    "player = league.player_info(\"Derrick Henry\")  # example\n",
    "athlete_id = player.playerId\n",
    "athlete_id"
   ]
  },
  {
   "cell_type": "code",
   "execution_count": 41,
   "id": "87092f37-7064-4579-b91c-790bfd6c3a88",
   "metadata": {},
   "outputs": [],
   "source": [
    "# Derrick Henry gamelog (raw JSON)\n",
    "# Change season / seasontype if you want:\n",
    "athlete_id = 3043078     # Derrick Henry\n",
    "season = 2024            # e.g., 2025\n",
    "seasontype = 2           # 1=pre, 2=regular, 3=post\n",
    "\n",
    "import requests, json\n",
    "url = f\"https://site.web.api.espn.com/apis/common/v3/sports/football/nfl/athletes/{athlete_id}/gamelog\"\n",
    "resp = requests.get(\n",
    "    url,\n",
    "    params={\"season\": season, \"seasontype\": seasontype},\n",
    "    headers={\"User-Agent\": \"Mozilla/5.0\"},\n",
    "    timeout=20,\n",
    ")\n",
    "resp.raise_for_status()\n",
    "data = resp.json()"
   ]
  },
  {
   "cell_type": "code",
   "execution_count": 42,
   "id": "7b9e14e6-299b-42e7-ae78-375aa16eafb1",
   "metadata": {},
   "outputs": [
    {
     "data": {
      "text/plain": [
       "['__class__',\n",
       " '__class_getitem__',\n",
       " '__contains__',\n",
       " '__delattr__',\n",
       " '__delitem__',\n",
       " '__dir__',\n",
       " '__doc__',\n",
       " '__eq__',\n",
       " '__format__',\n",
       " '__ge__',\n",
       " '__getattribute__',\n",
       " '__getitem__',\n",
       " '__gt__',\n",
       " '__hash__',\n",
       " '__init__',\n",
       " '__init_subclass__',\n",
       " '__ior__',\n",
       " '__iter__',\n",
       " '__le__',\n",
       " '__len__',\n",
       " '__lt__',\n",
       " '__ne__',\n",
       " '__new__',\n",
       " '__or__',\n",
       " '__reduce__',\n",
       " '__reduce_ex__',\n",
       " '__repr__',\n",
       " '__reversed__',\n",
       " '__ror__',\n",
       " '__setattr__',\n",
       " '__setitem__',\n",
       " '__sizeof__',\n",
       " '__str__',\n",
       " '__subclasshook__',\n",
       " 'clear',\n",
       " 'copy',\n",
       " 'fromkeys',\n",
       " 'get',\n",
       " 'items',\n",
       " 'keys',\n",
       " 'pop',\n",
       " 'popitem',\n",
       " 'setdefault',\n",
       " 'update',\n",
       " 'values']"
      ]
     },
     "execution_count": 42,
     "metadata": {},
     "output_type": "execute_result"
    }
   ],
   "source": [
    "dir(data)"
   ]
  },
  {
   "cell_type": "code",
   "execution_count": 46,
   "id": "53a548be-7184-4227-8b21-331e33d4b468",
   "metadata": {},
   "outputs": [
    {
     "data": {
      "text/plain": [
       "dict_keys(['categories', 'filters', 'labels', 'names', 'displayNames', 'events', 'seasonTypes', 'glossary'])"
      ]
     },
     "execution_count": 46,
     "metadata": {},
     "output_type": "execute_result"
    }
   ],
   "source": [
    "data.keys()"
   ]
  },
  {
   "cell_type": "code",
   "execution_count": 54,
   "id": "c7a33b74-3258-4576-988c-239a53736936",
   "metadata": {},
   "outputs": [],
   "source": [
    "last_week = data['events']['401671886']"
   ]
  },
  {
   "cell_type": "code",
   "execution_count": 55,
   "id": "69e1f85a-018f-4813-92da-697676b16695",
   "metadata": {},
   "outputs": [
    {
     "data": {
      "text/plain": [
       "dict_keys(['id', 'links', 'week', 'atVs', 'gameDate', 'score', 'homeTeamId', 'awayTeamId', 'homeTeamScore', 'awayTeamScore', 'gameResult', 'opponent', 'leagueName', 'leagueAbbreviation', 'leagueShortName', 'eventNote', 'team'])"
      ]
     },
     "execution_count": 55,
     "metadata": {},
     "output_type": "execute_result"
    }
   ],
   "source": [
    "last_week.keys()"
   ]
  },
  {
   "cell_type": "code",
   "execution_count": 56,
   "id": "5a249bfe-3d85-45eb-8909-bd96ab31e04b",
   "metadata": {},
   "outputs": [
    {
     "data": {
      "text/plain": [
       "2"
      ]
     },
     "execution_count": 56,
     "metadata": {},
     "output_type": "execute_result"
    }
   ],
   "source": [
    "last_week['week']"
   ]
  },
  {
   "cell_type": "code",
   "execution_count": 57,
   "id": "3cfa02df-8b52-41d9-b390-7654b737e412",
   "metadata": {},
   "outputs": [
    {
     "data": {
      "text/plain": [
       "'@'"
      ]
     },
     "execution_count": 57,
     "metadata": {},
     "output_type": "execute_result"
    }
   ],
   "source": [
    "last_week['atVs']"
   ]
  },
  {
   "cell_type": "code",
   "execution_count": 59,
   "id": "f8473b43-db81-43da-b33d-ef96153f76b5",
   "metadata": {},
   "outputs": [
    {
     "data": {
      "text/plain": [
       "'BUF'"
      ]
     },
     "execution_count": 59,
     "metadata": {},
     "output_type": "execute_result"
    }
   ],
   "source": [
    "last_week['opponent']['abbreviation']"
   ]
  },
  {
   "cell_type": "code",
   "execution_count": 61,
   "id": "1fde7cd0-dd08-4835-bd6c-4a19a777e160",
   "metadata": {},
   "outputs": [
    {
     "data": {
      "text/plain": [
       "'BAL'"
      ]
     },
     "execution_count": 61,
     "metadata": {},
     "output_type": "execute_result"
    }
   ],
   "source": [
    "last_week['team']['abbreviation']"
   ]
  },
  {
   "cell_type": "code",
   "execution_count": 62,
   "id": "5d5e9e2e-d5e0-46c5-9f00-8334783be2f9",
   "metadata": {},
   "outputs": [
    {
     "data": {
      "text/plain": [
       "'AFC Divisional Playoffs'"
      ]
     },
     "execution_count": 62,
     "metadata": {},
     "output_type": "execute_result"
    }
   ],
   "source": [
    "last_week['eventNote']"
   ]
  },
  {
   "cell_type": "code",
   "execution_count": 64,
   "id": "5548c405-4494-44a3-bfc5-375ad3bea3b3",
   "metadata": {},
   "outputs": [
    {
     "data": {
      "text/plain": [
       "dict_keys(['401671886', '401671879', '401671834', '401671800', '401671778', '401671639', '401671666', '401671689', '401671630', '401671810', '401671623', '401671852', '401671695', '401671625', '401671626', '401671783', '401671763', '401671624', '401671789'])"
      ]
     },
     "execution_count": 64,
     "metadata": {},
     "output_type": "execute_result"
    }
   ],
   "source": [
    "data['events'].keys()"
   ]
  },
  {
   "cell_type": "code",
   "execution_count": 70,
   "id": "e38de5fd-f89c-45e9-976f-7704457268b2",
   "metadata": {},
   "outputs": [
    {
     "data": {
      "text/plain": [
       "1"
      ]
     },
     "execution_count": 70,
     "metadata": {},
     "output_type": "execute_result"
    }
   ],
   "source": [
    "data['events']['401671789']['week']"
   ]
  },
  {
   "cell_type": "code",
   "execution_count": null,
   "id": "d53a1779-3172-4bf4-bd23-935408f76276",
   "metadata": {},
   "outputs": [],
   "source": []
  }
 ],
 "metadata": {
  "kernelspec": {
   "display_name": "Python (espn-env)",
   "language": "python",
   "name": "espn-env"
  },
  "language_info": {
   "codemirror_mode": {
    "name": "ipython",
    "version": 3
   },
   "file_extension": ".py",
   "mimetype": "text/x-python",
   "name": "python",
   "nbconvert_exporter": "python",
   "pygments_lexer": "ipython3",
   "version": "3.9.6"
  }
 },
 "nbformat": 4,
 "nbformat_minor": 5
}
